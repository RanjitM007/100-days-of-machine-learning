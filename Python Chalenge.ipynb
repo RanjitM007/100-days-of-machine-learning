{
 "cells": [
  {
   "cell_type": "markdown",
   "id": "c862a3b0",
   "metadata": {},
   "source": [
    "# Write a function in Python that accepts one numeric parameter. This parameter will be the measure of an angle in radians. The function should convert the radians into degrees and then return that value."
   ]
  },
  {
   "cell_type": "code",
   "execution_count": 4,
   "id": "0cecd6f6",
   "metadata": {},
   "outputs": [
    {
     "name": "stdout",
     "output_type": "stream",
     "text": [
      "85.94366926962348\n"
     ]
    }
   ],
   "source": [
    "import math\n",
    "\n",
    "def radians_to_degrees(radians):\n",
    "  \"\"\"Converts radians to degrees.\n",
    "\n",
    "  Args:\n",
    "    radians: The angle in radians.\n",
    "\n",
    "  Returns:\n",
    "    The angle in degrees.\n",
    "  \"\"\"\n",
    "\n",
    "  degrees = radians * (180 / math.pi)\n",
    "  return degrees\n",
    "\n",
    "if __name__ == \"__main__\":\n",
    "  radians = 1.5\n",
    "  degrees = radians_to_degrees(radians)\n",
    "  print(degrees)\n",
    "\n",
    "\n",
    "\n",
    "'''\n",
    "This code first imports the math module, which contains \n",
    "the pi constant and the degrees() function.\n",
    "The radians_to_degrees() function takes one parameter,\n",
    "which is the angle in radians. The function then multiplies\n",
    "the radians by 180 and divides by math.pi. This converts the\n",
    "radians to degrees and returns the result.\n",
    "'''"
   ]
  },
  {
   "cell_type": "markdown",
   "id": "078e4dfd",
   "metadata": {},
   "source": [
    "# Create a function in Python that accepts two parameters. The first will be a list of numbers. The second parameter will be a string that can be one of the following values: asc, desc, and none.\n",
    "\n",
    "If the second parameter is “asc,” then the function should return a list with the numbers in ascending order. If it’s “desc,” then the list should be in descending order, and if it’s “none,” it should return the original list unaltered."
   ]
  },
  {
   "cell_type": "code",
   "execution_count": 5,
   "id": "4cb4d398",
   "metadata": {},
   "outputs": [
    {
     "name": "stdout",
     "output_type": "stream",
     "text": [
      "[1, 2, 3, 4, 5]\n"
     ]
    }
   ],
   "source": [
    "def sort_list(numbers, order):\n",
    "  \"\"\"Sorts a list of numbers in ascending or descending order.\n",
    "\n",
    "  Args:\n",
    "    numbers: The list of numbers to sort.\n",
    "    order: The order to sort the list in. Can be \"asc\" for ascending, \"desc\"\n",
    "      for descending, or \"none\" to leave the list unaltered.\n",
    "\n",
    "  Returns:\n",
    "    The sorted list.\n",
    "  \"\"\"\n",
    "\n",
    "  if order == \"asc\":\n",
    "    return sorted(numbers)\n",
    "  elif order == \"desc\":\n",
    "    return sorted(numbers, reverse=True)\n",
    "  else:\n",
    "    return numbers\n",
    "\n",
    "if __name__ == \"__main__\":\n",
    "  numbers = [1, 5, 3, 2, 4]\n",
    "  sorted_numbers = sort_list(numbers, \"asc\")\n",
    "  print(sorted_numbers)\n",
    "\n",
    "'''\n",
    "This code first defines a function called sort_list().\n",
    "The function takes two parameters: a list of numbers and a string that indicates the order \n",
    "to sort the list in. The function then uses the sorted() function to\n",
    "sort the list in the specified order. If the order is \"asc\", the list is sorted in ascending order. If the order is \"desc\",\n",
    "the list is sorted in descending order. If the order is \"none\", \n",
    "the original list is returned unaltered.'''\n",
    "\n"
   ]
  },
  {
   "cell_type": "markdown",
   "id": "40049b1b",
   "metadata": {},
   "source": [
    "# Write a function in Python that accepts a decimal number and returns the equivalent binary number. To make this simple, the decimal number will always be less than 1,024, so the binary number returned will always be less than ten digits long."
   ]
  },
  {
   "cell_type": "code",
   "execution_count": 6,
   "id": "a6fa4059",
   "metadata": {},
   "outputs": [
    {
     "name": "stdout",
     "output_type": "stream",
     "text": [
      "1111011\n"
     ]
    }
   ],
   "source": [
    "def decimal_to_binary(decimal_number):\n",
    "  \"\"\"Converts a decimal number to binary.\n",
    "\n",
    "  Args:\n",
    "    decimal_number: The decimal number to convert.\n",
    "\n",
    "  Returns:\n",
    "    The binary number.\n",
    "  \"\"\"\n",
    "\n",
    "  binary_number = \"\"\n",
    "  while decimal_number > 0:\n",
    "    binary_number = str(decimal_number % 2) + binary_number\n",
    "    decimal_number //= 2\n",
    "\n",
    "  return binary_number\n",
    "\n",
    "if __name__ == \"__main__\":\n",
    "  decimal_number = 123\n",
    "  binary_number = decimal_to_binary(decimal_number)\n",
    "  print(binary_number)\n",
    "\n",
    "\n",
    "\n",
    "'''\n",
    "This code first defines a function called decimal_to_binary().\n",
    "The function takes one parameter, which is the decimal number to convert.\n",
    "The function then uses a while loop to divide the decimal number by 2 and store the remainder in a string.\n",
    "The remainder is then appended to \n",
    "the end of the string. The process is repeated until the decimal number is 0. \n",
    "The string is then returned.\n",
    "'''"
   ]
  },
  {
   "cell_type": "markdown",
   "id": "e533d9bd",
   "metadata": {},
   "source": [
    "# Count the vowels in a string\n",
    "Create a function in Python that accepts a single word and returns the number of vowels in that word. In this function, only a, e, i, o, and u will be counted as vowels — not y."
   ]
  },
  {
   "cell_type": "code",
   "execution_count": 7,
   "id": "bf65fa5f",
   "metadata": {},
   "outputs": [
    {
     "name": "stdout",
     "output_type": "stream",
     "text": [
      "2\n"
     ]
    }
   ],
   "source": [
    "def count_vowels(word):\n",
    "  \"\"\"Counts the number of vowels in a word.\n",
    "\n",
    "  Args:\n",
    "    word: The word to count the vowels in.\n",
    "\n",
    "  Returns:\n",
    "    The number of vowels in the word.\n",
    "  \"\"\"\n",
    "\n",
    "  vowels = \"aeiou\"\n",
    "  count = 0\n",
    "  for letter in word:\n",
    "    if letter in vowels:\n",
    "      count += 1\n",
    "\n",
    "  return count\n",
    "\n",
    "if __name__ == \"__main__\":\n",
    "  word = \"hello\"\n",
    "  number_of_vowels = count_vowels(word)\n",
    "  print(number_of_vowels)\n",
    "\n",
    "'''\n",
    "This code first defines a function called count_vowels(). The function takes one parameter,\n",
    "which is the word to count the vowels in. The function then creates a string containing all the vowels.\n",
    "The function then iterates through the letters in the word and checks if the letter is a vowel.\n",
    "If the letter is a vowel, the count is incremented. The count is then returned.\n",
    "'''\n"
   ]
  },
  {
   "cell_type": "markdown",
   "id": "41bc19ad",
   "metadata": {},
   "source": [
    "# Hide the credit card number\n",
    "Write a function in Python that accepts a credit card number. It should return a string where all the characters are hidden with an asterisk except the last four. For example, if the function gets sent “4444444444444444”, then it should return “4444”."
   ]
  },
  {
   "cell_type": "code",
   "execution_count": 8,
   "id": "d5851f45",
   "metadata": {},
   "outputs": [
    {
     "name": "stdout",
     "output_type": "stream",
     "text": [
      "************4444\n"
     ]
    }
   ],
   "source": [
    "def hide_all_but_last_4_digits(number):\n",
    "  \"\"\"Hides all characters except the last 4 digits of a number.\n",
    "\n",
    "  Args:\n",
    "    number: The number to hide.\n",
    "\n",
    "  Returns:\n",
    "    A string where all the characters are hidden with an asterisk except the last 4.\n",
    "  \"\"\"\n",
    "\n",
    "  number_digits = list(number)\n",
    "  last_4_digits = number_digits[-4:]\n",
    "  hidden_digits = \"*\" * (len(number_digits) - 4)\n",
    "  return \"\".join([hidden_digits] + last_4_digits)\n",
    "\n",
    "\n",
    "if __name__ == \"__main__\":\n",
    "  number = \"4444444444444444\"\n",
    "  hidden_number = hide_all_but_last_4_digits(number)\n",
    "  print(hidden_number)\n",
    "\n",
    "\n",
    "'''\n",
    "This code will first convert the number to a list of digits. Then,\n",
    "it will extract the last 4 digits of the number.\n",
    "Finally, it will create a string of asterisks with the length\n",
    "of the number minus the last 4 digits. The asterisks will represent the hidden digits.\n",
    "The last 4 digits will be appended to the string of asterisks. The resulting string will be returned.\n",
    "'''"
   ]
  },
  {
   "cell_type": "markdown",
   "id": "9bedc38e",
   "metadata": {},
   "source": [
    "# Are the Xs equal to the Os?\n",
    "Create a Python function that accepts a string. This function should count the number of Xs and the number of Os in the string. It should then return a boolean value of either True or False.\n",
    "\n",
    "If the count of Xs and Os are equal, then the function should return True. If the count isn’t the same, it should return False. If there are no Xs or Os in the string, it should also return True because 0 equals 0. The string can contain any type and number of characters."
   ]
  },
  {
   "cell_type": "code",
   "execution_count": 9,
   "id": "4797703d",
   "metadata": {},
   "outputs": [
    {
     "name": "stdout",
     "output_type": "stream",
     "text": [
      "True\n"
     ]
    }
   ],
   "source": [
    "def count_x_and_o(string):\n",
    "  \"\"\"Counts the number of Xs and Os in a string and returns a boolean value.\n",
    "\n",
    "  Args:\n",
    "    string: The string to count the Xs and Os in.\n",
    "\n",
    "  Returns:\n",
    "    A boolean value of either True or False.\n",
    "  \"\"\"\n",
    "\n",
    "  x_count = 0\n",
    "  o_count = 0\n",
    "  for character in string:\n",
    "    if character == \"X\":\n",
    "      x_count += 1\n",
    "    elif character == \"O\":\n",
    "      o_count += 1\n",
    "  if x_count == o_count:\n",
    "    return True\n",
    "  else:\n",
    "    return False\n",
    "\n",
    "\n",
    "if __name__ == \"__main__\":\n",
    "  string = \"XXOO\"\n",
    "  result = count_x_and_o(string)\n",
    "  print(result)\n",
    "\n",
    "'''\n",
    "This code will first create two variables to store the number of Xs and Os in the string.\n",
    "Then, it will iterate through the string and increment the appropriate variable for each character.\n",
    "Finally, it will return True if the number of Xs and Os are equal, or False if they are not.\n",
    "'''\n"
   ]
  },
  {
   "cell_type": "markdown",
   "id": "e0d35733",
   "metadata": {},
   "source": [
    "# Create a calculator function\n",
    "Write a Python function that accepts three parameters. The first parameter is an integer. The second is one of the following mathematical operators: +, -, /, or . The third parameter will also be an integer.\n",
    "\n",
    "The function should perform a calculation and return the results. For example, if the function is passed 6 and 4, it should return 24."
   ]
  },
  {
   "cell_type": "code",
   "execution_count": 10,
   "id": "e48d3008",
   "metadata": {},
   "outputs": [
    {
     "name": "stdout",
     "output_type": "stream",
     "text": [
      "10\n"
     ]
    }
   ],
   "source": [
    "def calculator(number1, operator, number2):\n",
    "  \"\"\"Performs a calculation and returns the results.\n",
    "\n",
    "  Args:\n",
    "    number1: The first number to calculate with.\n",
    "    operator: The mathematical operator to use.\n",
    "    number2: The second number to calculate with.\n",
    "\n",
    "  Returns:\n",
    "    The results of the calculation.\n",
    "  \"\"\"\n",
    "\n",
    "  if operator == \"+\":\n",
    "    return number1 + number2\n",
    "  elif operator == \"-\":\n",
    "    return number1 - number2\n",
    "  elif operator == \"/\":\n",
    "    return number1 / number2\n",
    "  elif operator == \"*\":\n",
    "    return number1 * number2\n",
    "  else:\n",
    "    raise ValueError(\"Invalid operator\")\n",
    "\n",
    "\n",
    "if __name__ == \"__main__\":\n",
    "  number1 = 6\n",
    "  operator = \"+\"\n",
    "  number2 = 4\n",
    "  result = calculator(number1, operator, number2)\n",
    "  print(result)\n",
    "\n",
    "'''\n",
    "\n",
    "This code will first define a function called calculator.\n",
    "The function will take three parameters: number1, operator, and number2.\n",
    "The number1 and number2 parameters will be integers, and the operator parameter \n",
    "will be one of the following mathematical operators: +, -, /, or *.\n",
    "\n",
    "The function will then perform the appropriate calculation based on the operator parameter. For example,\n",
    "if the operator parameter is +, the function will add number1 and number2. The function will then \n",
    "return the results of the calculation.\n",
    "\n",
    "Finally, the code will call the calculator \n",
    "function with the numbers 6, +, and 4. The function will \n",
    "return the results of the calculation, which is 24. The code will then print the results.\n",
    "'''\n"
   ]
  },
  {
   "cell_type": "markdown",
   "id": "76920560",
   "metadata": {},
   "source": [
    "# Give me the discount\n",
    "Create a function in Python that accepts two parameters. The first should be the full price of an item as an integer. The second should be the discount percentage as an integer.\n",
    "\n",
    "The function should return the price of the item after the discount has been applied. For example, if the price is 100 and the discount is 20, the function should return 80."
   ]
  },
  {
   "cell_type": "code",
   "execution_count": 13,
   "id": "74afaa68",
   "metadata": {},
   "outputs": [
    {
     "name": "stdout",
     "output_type": "stream",
     "text": [
      "80.0\n"
     ]
    },
    {
     "data": {
      "text/plain": [
       "'\\n   This code will first define a function called calculate_discount. The function will take two parameters: \\n   price and discount. The price parameter will be an integer, \\n   and the discount parameter will be an integer representing the discount percentage.\\n\\nThe function will then calculate the discount amount by multiplying the price by \\nthe discount percentage and dividing by 100. The function will then subtract the \\ndiscount amount from the price to get the discounted price. The discounted price will then be returned. \\n    \\n'"
      ]
     },
     "execution_count": 13,
     "metadata": {},
     "output_type": "execute_result"
    }
   ],
   "source": [
    "def calculate_discount(price, discount):\n",
    "  \"\"\"Calculates a discount on an item and returns the discounted price.\n",
    "\n",
    "  Args:\n",
    "    price: The full price of the item as an integer.\n",
    "    discount: The discount percentage as an integer.\n",
    "\n",
    "  Returns:\n",
    "    The discounted price of the item.\n",
    "  \"\"\"\n",
    "\n",
    "  discount_amount = price * discount / 100\n",
    "  discounted_price = price - discount_amount\n",
    "  return discounted_price\n",
    "\n",
    "\n",
    "if __name__ == \"__main__\":\n",
    "  price = 100\n",
    "  discount = 20\n",
    "  discounted_price = calculate_discount(price, discount)\n",
    "  print(discounted_price)\n",
    "\n",
    "\n",
    "'''\n",
    "   This code will first define a function called calculate_discount. The function will take two parameters: \n",
    "   price and discount. The price parameter will be an integer, \n",
    "   and the discount parameter will be an integer representing the discount percentage.\n",
    "\n",
    "The function will then calculate the discount amount by multiplying the price by \n",
    "the discount percentage and dividing by 100. The function will then subtract the \n",
    "discount amount from the price to get the discounted price. The discounted price will then be returned. \n",
    "    \n",
    "'''"
   ]
  },
  {
   "cell_type": "markdown",
   "id": "0ac5d16f",
   "metadata": {},
   "source": [
    "# Just the numbers\n",
    "Write a function in Python that accepts a list of any length that contains a mix of non-negative integers and strings. The function should return a list with only the integers in the original list in the same order."
   ]
  },
  {
   "cell_type": "code",
   "execution_count": 14,
   "id": "6539148d",
   "metadata": {},
   "outputs": [
    {
     "name": "stdout",
     "output_type": "stream",
     "text": [
      "[1, 3, 5]\n"
     ]
    }
   ],
   "source": [
    "def extract_integers_from_list(list_of_elements):\n",
    "  \"\"\"Returns a list with only the integers in the original list in the same order.\n",
    "\n",
    "  Args:\n",
    "    list_of_elements: A list of any length that contains a mix of non-negative\n",
    "      integers and strings.\n",
    "\n",
    "  Returns:\n",
    "    A list with only the integers in the original list in the same order.\n",
    "  \"\"\"\n",
    "\n",
    "  list_of_integers = []\n",
    "  for element in list_of_elements:\n",
    "    if isinstance(element, int):\n",
    "      list_of_integers.append(element)\n",
    "  return list_of_integers\n",
    "\n",
    "\n",
    "if __name__ == \"__main__\":\n",
    "  list_of_elements = [1, \"2\", 3, \"4\", 5]\n",
    "  list_of_integers = extract_integers_from_list(list_of_elements)\n",
    "  print(list_of_integers)\n",
    "\n",
    "\n",
    "'''\n",
    "This code will first define a function called extract_integers_from_list.\n",
    "The function will take one parameter: list_of_elements.\n",
    "The list_of_elements parameter will be a list of any length that contains a mix of non-negative integers and strings.\n",
    "\n",
    "The function will then iterate through the list_of_elements parameter and check if each element is an integer. \n",
    "If the element is an integer, the function will append the element to a new list called list_of_integers. The list_of_integers list will contain only the integers from the original list.\n",
    "\n",
    "Finally, the function will return the list_of_integers list.\n",
    "'''\n"
   ]
  },
  {
   "cell_type": "markdown",
   "id": "cf35373e",
   "metadata": {},
   "source": [
    "# Repeat the characters\n",
    "Create a Python function that accepts a string. The function should return a string, with each character in the original string doubled. If you send the function “now” as a parameter, it should return “nnooww,” and if you send “123a!”, it should return “112233aa!!”."
   ]
  },
  {
   "cell_type": "code",
   "execution_count": 17,
   "id": "8ce90eae",
   "metadata": {},
   "outputs": [
    {
     "name": "stdout",
     "output_type": "stream",
     "text": [
      "nnooww\n"
     ]
    },
    {
     "data": {
      "text/plain": [
       "'\\nThis code will first define a function called double_characters. \\nThe function will take one parameter: string. The string parameter will be a string.\\n\\nThe function will then iterate through the string parameter and double each character\\n. The doubled characters will be appended to a new string called doubled_string.\\n'"
      ]
     },
     "execution_count": 17,
     "metadata": {},
     "output_type": "execute_result"
    }
   ],
   "source": [
    "def double_characters(string):\n",
    "  \"\"\"Returns a string with each character in the original string doubled.\n",
    "\n",
    "  Args:\n",
    "    string: The string to double the characters in.\n",
    "\n",
    "  Returns:\n",
    "    A string with each character in the original string doubled.\n",
    "  \"\"\"\n",
    "\n",
    "  doubled_string = \"\"\n",
    "  for character in string:\n",
    "    doubled_string += character * 2\n",
    "  return doubled_string\n",
    "\n",
    "\n",
    "if __name__ == \"__main__\":\n",
    "  string = \"now\"\n",
    "  doubled_string = double_characters(string)\n",
    "  print(doubled_string)\n",
    "'''\n",
    "This code will first define a function called double_characters. \n",
    "The function will take one parameter: string. The string parameter will be a string.\n",
    "\n",
    "The function will then iterate through the string parameter and double each character\n",
    ". The doubled characters will be appended to a new string called doubled_string.\n",
    "'''"
   ]
  },
  {
   "cell_type": "code",
   "execution_count": null,
   "id": "8c343aef",
   "metadata": {},
   "outputs": [],
   "source": []
  }
 ],
 "metadata": {
  "kernelspec": {
   "display_name": "Python 3 (ipykernel)",
   "language": "python",
   "name": "python3"
  },
  "language_info": {
   "codemirror_mode": {
    "name": "ipython",
    "version": 3
   },
   "file_extension": ".py",
   "mimetype": "text/x-python",
   "name": "python",
   "nbconvert_exporter": "python",
   "pygments_lexer": "ipython3",
   "version": "3.9.13"
  }
 },
 "nbformat": 4,
 "nbformat_minor": 5
}
